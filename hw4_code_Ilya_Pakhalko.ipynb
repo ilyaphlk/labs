{
 "cells": [
  {
   "cell_type": "markdown",
   "metadata": {},
   "source": [
    "# Практическая задача (36 баллов)"
   ]
  },
  {
   "cell_type": "markdown",
   "metadata": {},
   "source": [
    "В этой задаче мы поработаем с разреженными системами, в том числе научимся быстро пересчитывать решение при изменениях ранга 1 в матрице левой части."
   ]
  },
  {
   "cell_type": "code",
   "execution_count": 1,
   "metadata": {},
   "outputs": [],
   "source": [
    "import numpy as np\n",
    "import matplotlib.pyplot as plt\n",
    "%matplotlib inline"
   ]
  },
  {
   "cell_type": "markdown",
   "metadata": {},
   "source": [
    "### Расчёт напряжений в системе резисторов\n",
    "\n",
    "При конструировании сверхбольших интегральных схем (СБИС, very large scale integration, VLSI) одной из базовых задачей является расчёт напряжений в электрических схемах довольно внушительных размеров. Мы рассмотрим модельный пример: сетку $m \\times n$ с резисторами сопротивления $R$.\n",
    "\n",
    "![Сетка из резисторов](resistors.svg)\n",
    "\n",
    "Потенциалы в узлах сетки обозначим $\\varphi_{ij}$, это и будут наши неизвестные. Давайте также считать, что к противоположным углам сетки ($(1,1)$ и $(m,n)$) приложена разность потенциалов $U$. Соответственно, в левый верхний угол втекает (неизвестный) ток $I$, и такой же ток вытекает из правого нижнего угла.\n",
    "\n",
    "Для решения системы нам будет достаточно закона Ома и первого закона Кирхгофа. Именно, для каждого резистора легко выразить текущий через него ток. Например, для горизонтального резистора между узлами $(i,j)$ и $(i,j+1)$ ток равен $I_{i,j} = (\\varphi_{ij} - \\varphi_{i,j+1})/R$. Далее применяем первый закон Кирхгофа для каждого узла $(i,j)$, то есть приравниваем сумму втекающих токов к сумме вытекающих. Для внутреннего узла получим такое равенство:\n",
    "$$\n",
    "\\frac{\\varphi_{i,j-1} - \\varphi_{i,j}}{R} + \\frac{\\varphi_{i-1,j} - \\varphi_{i,j}}{R} - \\frac{\\varphi_{i,j} - \\varphi_{i,j+1}}{R} - \\frac{\\varphi_{i,j} - \\varphi_{i+1,j}}{R} = 0.\\tag{1}\n",
    "$$\n",
    "На границе, например, верхней (то есть $i = 1$), будет отсутствовать член $\\varphi_{i-1,j}-\\varphi_{i, j}$, а в углу, например, $(1,n)$, будет дополнительно отсутствовать член $\\varphi_{i,j}-\\varphi_{i, j+1}$. В углах $(1,1)$ и $(m, n)$, однако, ситуация особая: в первом есть дополнительный втекающий неизвестный ток $I$, а во втором этот же ток вытекает.\n",
    "В результате получим систему на $\\varphi_{i,j}$ и $I$:\n",
    "$$\n",
    "\\left[ \\begin{array}{ccccc|c}\n",
    "   &&   && &  R \\\\\n",
    "   &&   && &  0 \\\\\n",
    "   && A && &  \\vdots  \\\\\n",
    "   &&   && &  0 \\\\\n",
    "   &&   && & -R \\\\\n",
    "   \\hline\n",
    "1 & 0 & \\dots &  0 & -1 & 0\n",
    "\\end{array}\n",
    "\\right]\n",
    "\\begin{bmatrix}\n",
    "\\varphi_{11} \\\\\n",
    "\\vdots       \\\\\n",
    "\\vdots       \\\\\n",
    "\\vdots       \\\\\n",
    "\\varphi_{mn}  \\\\\n",
    "I\n",
    "\\end{bmatrix}\n",
    "=\n",
    "\\begin{bmatrix}\n",
    "0 \\\\\n",
    "\\vdots       \\\\\n",
    "\\vdots       \\\\\n",
    "\\vdots       \\\\\n",
    "0  \\\\\n",
    "U\n",
    "\\end{bmatrix}\n",
    "$$\n",
    "Последнее уравнение есть $\\varphi_{11}-\\varphi_{mn} = U$.\n",
    "\n",
    "Разберёмся с видом матрицы $A$. Она имеет размеры $mn \\times mn$ и индексируется двумя парами индексов $ij$ и $i'j'$. Перепишем уравнение (2) в виде \n",
    "$$\n",
    "(\\varphi_{i,j-1} - 2\\varphi_{i,j} + \\varphi_{i,j+1}) + (\\varphi_{i-1,j} - 2\\varphi_{i,j} + \\varphi_{i+1,j}) = 0.\\tag{2}\n",
    "$$\n",
    "Если переписать столбец $\\varphi$ с элементами $\\varphi_{ij}$ в матрицу $\\Phi\\in\\mathbb{R}^{m \\times n}$ естественным образом (то есть так, чтобы $\\mathrm{vec}(\\Phi) = \\varphi$), то ясно, что первое слагаемое в (2) действует на столбцы матрицы $\\Phi$, а второе &mdash; на строки. То есть $A \\varphi  = \\mathrm{vec}(\\Phi A_n) + \\mathrm{vec}(A_m \\Phi)$, где $A_n \\in \\mathbb{R}^{n \\times n}$ и $A_m \\in \\mathbb{R}^{m \\times m}$ имеют вид\n",
    "$$\n",
    "\\begin{bmatrix}\n",
    "-1 & 1 & &  \\\\\n",
    "1 & -2 & 1 & \\\\\n",
    "  &   & \\ddots &  \\\\\n",
    "  &     &    1 & -1\n",
    " \\end{bmatrix}.\n",
    "$$\n",
    "По уже известной нам формуле для $\\mathrm{vec}(\\cdot)$ получается, что $A = I_n \\otimes A_m + A_n \\otimes I_m$. Операция в правой части ещё называется *Кронекеровой суммой* матриц $A_m$ и $A_n$ и обозначается $A_m \\oplus A_n$ (можете проверить, что такая \"сумма\" не имеет такого интуитивного свойство суммы, как коммутативность, т.е. в общем случае $A_m \\oplus A_n \\neq A_n \\oplus A_m$).\n",
    "\n",
    "**Обратите внимание**, что система получилась линейно зависимой: если сложить все строки, кроме последней, получится нулевая строка (физически это отвечает тому, что все потенциалы можно сдвинуть на одинаковую константу).\n",
    "Поэтому мы удалим предпоследнюю строку (не потеряв никакой информации, ведь она равнялась минус сумме остальных), а вместо неё добавим условие $\\varphi_{mn} = 0$, таким образом фиксируя один из потенциалов, чтобы уничтожить неопределённость. **Обозначим получившуюся $(mn+1)\\times(mn+1)$ матрицу $B$.**"
   ]
  },
  {
   "cell_type": "markdown",
   "metadata": {},
   "source": [
    "## 1. Разреженное LU-разложение (16 баллов)"
   ]
  },
  {
   "cell_type": "markdown",
   "metadata": {
    "scrolled": true
   },
   "source": [
    "a. (**9 баллов**) Сформируйте разреженную матрицу решаемой системы в CSC формате. Для получения матриц $A_m, A_n$ используйте `scipy.sparse.spdiags`, а для сбора $B$ по $A_m, A_n$ используйте `scipy.sparse.kron` (а также другие операции). Обратите внимание, что в этом задании нельзя собирать $A_m, A_n$ или $B$ с использованием операций с плотными матрицами."
   ]
  },
  {
   "cell_type": "code",
   "execution_count": 47,
   "metadata": {},
   "outputs": [],
   "source": [
    "from scipy import sparse as sp\n",
    "\n",
    "def make_A_k(k):\n",
    "    A = sp.diags([1, -2, 1], [-1, 0, 1], shape=(k, k))\n",
    "    A = sp.csc_matrix(A)\n",
    "    A[0, 0] = -1\n",
    "    A[k - 1, k - 1] = -1\n",
    "    \n",
    "    return A\n",
    "\n",
    "def make_A(m, n):\n",
    "    \"Returns sparse mn x mn matrix A\"    \n",
    "    A_n = make_A_k(n)\n",
    "    A_m = make_A_k(m)\n",
    "    # видимо, kronsum использовать запретили :с\n",
    "    return sp.kron(sp.eye(n), A_m, format='csc') + sp.kron(A_n, sp.eye(m), format='csc') \n",
    "    \n",
    "def make_mat(m, n, R):\n",
    "    \"Returns sparse (mn + 1) x (mn + 1) matrix B of the system in CSC format\"\n",
    "    A = make_A(m, n)\n",
    "    A[-1, -1] = 1  # уравнение на phi_mn = 0\n",
    "    A[-1, -2] = 0\n",
    "    last_col = np.zeros(m*n)\n",
    "    last_col[0] = R\n",
    "    B = sp.hstack([A, sp.csc_matrix(last_col[:, np.newaxis])])\n",
    "    last_row = np.zeros(m*n + 1)\n",
    "    last_row[0] = 1\n",
    "    last_row[-2] = -1\n",
    "    B = sp.vstack([B, sp.csc_matrix(last_row)])\n",
    "    return sp.csc_matrix(B)"
   ]
  },
  {
   "cell_type": "markdown",
   "metadata": {},
   "source": [
    "b. (**7 баллов**) Заполните класс `Solver`, который при инициализации выполнит разреженное LU-разложение с помощью библиотеки `scipy.sparse.linalg` и функции `scipy.sparse.linalg.splu`, а затем будет уметь решать систему для заданной правой части."
   ]
  },
  {
   "cell_type": "code",
   "execution_count": 51,
   "metadata": {},
   "outputs": [],
   "source": [
    "import scipy.sparse.linalg\n",
    "\n",
    "class Solver:\n",
    "    def __init__(self, m, n, R):\n",
    "        self.splu_obj = sp.linalg.splu(make_mat(m, n, R))\n",
    "        self.grid_shape = (m, n)\n",
    "    \n",
    "    def solve(self, right):\n",
    "        \"Solves the system for given right part\"\n",
    "        # LUx = b, UX = y -> Ly = b\n",
    "        #y = scipy.sparse.linalg.spsolve_triangular(self.Low, right)\n",
    "        #x = scipy.sparse.linalg.spsolve_triangular(self.Up, y)\n",
    "        return self.splu_obj.solve(right)\n",
    "\n",
    "    def solve_voltage(self, U):\n",
    "        \"Solves the updated system for given voltage\"\n",
    "        m, n = self.grid_shape\n",
    "        right = np.zeros(m*n+1)\n",
    "        right[-1] = U\n",
    "        return self.solve(right)"
   ]
  },
  {
   "cell_type": "markdown",
   "metadata": {},
   "source": [
    "Решим систему и визуализируем полученное решение, чтобы понять, как текут токи."
   ]
  },
  {
   "cell_type": "code",
   "execution_count": 52,
   "metadata": {},
   "outputs": [],
   "source": [
    "def visualize(m, n, R, solution, resistance_coeffs={}):\n",
    "    plt.axis('off')\n",
    "    max_current = 0\n",
    "    lines = []\n",
    "    for i in range(m):\n",
    "        for j in range(n - 1):\n",
    "            resistance = R * resistance_coeffs.get((i, j), 1)\n",
    "            current = (solution[j * m + i] - solution[(j + 1) * m + i]) / resistance\n",
    "            max_current = max(max_current, current)\n",
    "            lines += plt.plot([j, j + 1], [-i, -i], color='blue', lw=current)\n",
    "    for i in range(m - 1):\n",
    "        for j in range(n):\n",
    "            current = (solution[j * m + i] - solution[j * m + i + 1]) / R\n",
    "            max_current = max(max_current, current)\n",
    "            lines += plt.plot([j, j], [-i, -i - 1], color='blue', lw=current)\n",
    "    for l in lines:\n",
    "        l.set_linewidth(l.get_linewidth() * 4. / max_current)"
   ]
  },
  {
   "cell_type": "code",
   "execution_count": 53,
   "metadata": {},
   "outputs": [
    {
     "data": {
      "image/png": "[encoded data removed]",
      "text/plain": [
       "<Figure size 432x288 with 1 Axes>"
      ]
     },
     "metadata": {
      "needs_background": "light"
     },
     "output_type": "display_data"
    }
   ],
   "source": [
    "m, n, R = 3, 8, 1.\n",
    "solver = Solver(m, n, R)\n",
    "visualize(m, n, R, solver.solve_voltage(220.))"
   ]
  },
  {
   "cell_type": "markdown",
   "metadata": {},
   "source": [
    "Проверьте, что ваш солвер работает для больших систем."
   ]
  },
  {
   "cell_type": "code",
   "execution_count": 54,
   "metadata": {},
   "outputs": [],
   "source": [
    "m, n, R = 500, 500, 1.\n",
    "solver = Solver(m, n, R)\n",
    "_ = solver.solve_voltage(220.)"
   ]
  },
  {
   "cell_type": "markdown",
   "metadata": {},
   "source": [
    "## 2. Обновления ранга 1 (20 баллов)"
   ]
  },
  {
   "cell_type": "markdown",
   "metadata": {},
   "source": [
    "Представим теперь, что в процессе работы резисторы в нашей системе могут менять своё сопротивление, например, при перегреве проводник может потерять проводимость ($R_{i,j} = \\infty$) или, напротив, может произойти короткое замыкание ($R_{i,j} = 0$). При таких локальных изменениях нет нужды строить и решать заново всю нашу линейную систему.\n",
    "\n",
    "a. (**8 баллов**) Будем считать для простоты, что сопротивление меняется только в горизонтальных резисторах, не инцидентных узлам $(1,1)$ и $(m, n)$. Пусть сопротивление между узлами $(i,j)$ и $(i,j+1)$ изменилось с $R$ на $R'$. Пользуясь формулой (1), выпишите новую матрицу $B'$ в виде $B' = B + uv^\\top$.\n"
   ]
  },
  {
   "cell_type": "markdown",
   "metadata": {},
   "source": [
    "(можно написать решение в строчке ниже или на листке в теоретической части)"
   ]
  },
  {
   "cell_type": "markdown",
   "metadata": {},
   "source": []
  },
  {
   "cell_type": "markdown",
   "metadata": {},
   "source": [
    "Далее воспользуемся формулой Шермана-Моррисона для обращения матрицы $B + uv^\\top$.\n",
    "\n",
    "b. (**12 баллов**) Напишите класс `UpdatableSolver`, использующий `Solver`, но вдобавок умеющий умножать сопротивление в заданном \"горизонтальном\" резисторе между $(i,j)$ и $(i,j+1)$ на заданное число."
   ]
  },
  {
   "cell_type": "code",
   "execution_count": null,
   "metadata": {},
   "outputs": [],
   "source": [
    "class UpdatableSolver(Solver):\n",
    "    def __init__(self, m, n, R):\n",
    "        super().__init__()\n",
    "        \n",
    "    def solve(self, right):\n",
    "        \"Solves the updated system for given right part\"\n",
    "        # YOUR CODE GOES HERE\n",
    "        raise NotImplementedError\n",
    "    \n",
    "    def update(self, i, j, coeff):\n",
    "        \"\"\"\n",
    "            Updates the system so that the resistance between (i,j) and (i,j+1)\n",
    "            is mutiplied by coeff.\n",
    "        \"\"\"\n",
    "        # YOUR CODE GOES HERE\n",
    "        raise NotImplementedError\n",
    "    \n",
    "    def solve_voltage(self, U):\n",
    "        \"Solves the updated system for given voltage\"\n",
    "        # YOUR CODE GOES HERE\n",
    "        raise NotImplementedError"
   ]
  },
  {
   "cell_type": "markdown",
   "metadata": {},
   "source": [
    "Поэкспериментируем с изменением проводимости отдельных участков. Попробуем сильно увеличить сопротивление сначала одного, затем другого резистора в одном вертикальном ряду. "
   ]
  },
  {
   "cell_type": "code",
   "execution_count": null,
   "metadata": {},
   "outputs": [],
   "source": [
    "m, n, R = 3, 8, 1.\n",
    "solver = UpdatableSolver(m, n, R)\n",
    "visualize(m, n, R, solver.solve_voltage(220.))\n",
    "plt.figure()\n",
    "coeff = 1000\n",
    "resistance_coeffs = {(1,3): coeff}\n",
    "solver.update(1, 3, coeff)\n",
    "visualize(m, n, R, solver.solve_voltage(220.), resistance_coeffs=resistance_coeffs)\n",
    "plt.figure()\n",
    "resistance_coeffs[(2,3)] = coeff\n",
    "solver.update(2, 3, coeff)\n",
    "visualize(m, n, R, solver.solve_voltage(220.), resistance_coeffs=resistance_coeffs)"
   ]
  },
  {
   "cell_type": "markdown",
   "metadata": {},
   "source": [
    "Также проверим, что новый солвер работает для больших систем."
   ]
  },
  {
   "cell_type": "code",
   "execution_count": null,
   "metadata": {},
   "outputs": [],
   "source": [
    "m, n, R = 300, 300, 1.\n",
    "solver = UpdatableSolver(m, n, R)\n",
    "solver.solve_voltage(220.)\n",
    "solver.update(10, 20, 100.)\n",
    "solver.update(20, 30, 100.)\n",
    "solver.update(30, 40, 100.)\n",
    "_ = solver.solve_voltage(220.)"
   ]
  }
 ],
 "metadata": {
  "kernelspec": {
   "display_name": "Python 3",
   "language": "python",
   "name": "python3"
  },
  "language_info": {
   "codemirror_mode": {
    "name": "ipython",
    "version": 3
   },
   "file_extension": ".py",
   "mimetype": "text/x-python",
   "name": "python",
   "nbconvert_exporter": "python",
   "pygments_lexer": "ipython3",
   "version": "3.7.7"
  }
 },
 "nbformat": 4,
 "nbformat_minor": 2
}
