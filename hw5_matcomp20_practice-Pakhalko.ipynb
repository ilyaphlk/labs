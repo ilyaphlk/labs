{
 "cells": [
  {
   "cell_type": "markdown",
   "metadata": {},
   "source": [
    "# Практическая задача (50 баллов)"
   ]
  },
  {
   "cell_type": "markdown",
   "metadata": {},
   "source": [
    "В этой задаче мы будем сравнивать различные итерационные методы для решения систем, как модельных, так и настоящих больших и разреженных."
   ]
  },
  {
   "cell_type": "code",
   "execution_count": 2,
   "metadata": {},
   "outputs": [],
   "source": [
    "import numpy as np\n",
    "import numpy.linalg as la\n",
    "import matplotlib.pyplot as plt\n",
    "import scipy.sparse as sp\n",
    "import scipy.linalg\n",
    "import scipy.sparse.linalg as spla\n",
    "import time\n",
    "%matplotlib inline"
   ]
  },
  {
   "cell_type": "markdown",
   "metadata": {},
   "source": [
    "## 1. Модельная плотная матрица (35 баллов)\n",
    "\n",
    "Начнём с некоторой модельной плотной матрицы. Она будет симметричной положительно определённой, чтобы можно было применять все наши методы, однако собственные числа мы выберем так, чтобы получить довольно большое число обусловленности."
   ]
  },
  {
   "cell_type": "code",
   "execution_count": 3,
   "metadata": {},
   "outputs": [],
   "source": [
    "d = np.hstack([1 / np.arange(100, 0, -1), 10])\n",
    "n = len(d)\n",
    "Q, _ = np.linalg.qr(np.random.random((n, n)))\n",
    "A = (Q * d) @ Q.T\n",
    "b = np.random.random(n)"
   ]
  },
  {
   "cell_type": "markdown",
   "metadata": {},
   "source": [
    "На всякий случай нарисуем сингулярные числа."
   ]
  },
  {
   "cell_type": "code",
   "execution_count": 4,
   "metadata": {},
   "outputs": [
    {
     "data": {
      "image/png": "[encoded data removed]",
      "text/plain": [
       "<Figure size 432x288 with 1 Axes>"
      ]
     },
     "metadata": {
      "needs_background": "light"
     },
     "output_type": "display_data"
    }
   ],
   "source": [
    "plt.plot(np.linalg.svd(A, compute_uv=False))\n",
    "_ = plt.semilogy()"
   ]
  },
  {
   "cell_type": "markdown",
   "metadata": {},
   "source": [
    "### a. Метод простой итерации (7 баллов)\n",
    "\n",
    "Реализуйте функцию, которая обобщает все варианты метода простой итерации. За это обобщение отвечает параметр `get_dx` &mdash; функция, принимающая невязку $r_k$ и возвращающая вектор $\\Delta x \\equiv x_{k+1} - x_k$.\n",
    "Также у функции есть параметр `tol`, соответствующий целевой относительной невязке, то есть величине $\\|r_k\\|_2/\\|b\\|_2$.\n",
    "Наконец, параметр `debug` нужен, чтобы контролировать дебажный вывод. Если передан `debug=True`, на каждой итерации нужно печатать (в свободной форме) номер итерации, относительную невязку и всё, что ещё сочтёте интересным.\n",
    "\n",
    "В выходном параметре `residual_norms` необходимо вернуть список относительных величин невязок для каждой итерации."
   ]
  },
  {
   "cell_type": "code",
   "execution_count": 5,
   "metadata": {},
   "outputs": [],
   "source": [
    "def simple_iteration(A, b, get_dx, x0=None, tol=1e-5, max_iter=None, debug=False):\n",
    "    \"\"\"\n",
    "        Input\n",
    "            A: dense or sparse square matrix\n",
    "            b: right part of appropriate size\n",
    "            get_dx: function computing correction to current solution from current residualresidue\n",
    "            x0: initial guess for solution\n",
    "            tol: relative residualresidue to achieve\n",
    "            max_iter: if specified, no more that this number of iterations will be performed\n",
    "            debug: if True, output iteration no. and relative residualresidue norm (||r||_2/||b||_2) at each iteration\n",
    "            \n",
    "        Output\n",
    "            x: found approximate solution\n",
    "            residual_norms: relative residualresidue norms at each iteration\n",
    "    \"\"\"\n",
    "    \n",
    "    if x0 is None:\n",
    "        x0 = np.random.normal(size=b.shape[0])\n",
    "    \n",
    "    x = x0\n",
    "    r = b - np.dot(A, x)\n",
    "    b_norm = np.linalg.norm(b)\n",
    "    residual_norms = [np.linalg.norm(r) / b_norm]\n",
    "    step = 0\n",
    "    while residual_norms[-1] > tol and (max_iter is None or step < max_iter):\n",
    "        if debug:\n",
    "            print(\"step:\", step, \"residual norm:\", residual_norms[-1])\n",
    "        x = x + get_dx(r)\n",
    "        r = b - np.dot(A, x)\n",
    "        residual_norms.append(np.linalg.norm(r) / b_norm)\n",
    "        step += 1\n",
    "    \n",
    "    return x, residual_norms"
   ]
  },
  {
   "cell_type": "markdown",
   "metadata": {},
   "source": [
    "Используем также вспомогательную функцию, которая будет запускать солвер, печатать время работы и рисовать график сходимости."
   ]
  },
  {
   "cell_type": "code",
   "execution_count": 6,
   "metadata": {},
   "outputs": [],
   "source": [
    "def run_solver(solver, A, b, make_get_dx, **kwargs):\n",
    "    start = time.time()\n",
    "    get_dx = make_get_dx()\n",
    "    get_dx_time = time.time()\n",
    "    x, rs = solver(A, b, get_dx, **kwargs)\n",
    "    finish = time.time()\n",
    "    print(\"Runtime: {:4.2f} secs ({:4.2f} preparation + {:4.2f} iters)\".format(\n",
    "        finish - start,\n",
    "        get_dx_time - start,\n",
    "        finish - get_dx_time,\n",
    "    ))\n",
    "    if not rs:\n",
    "        return None, finish - start\n",
    "    line, = plt.plot(rs)\n",
    "    plt.xlabel(\"Iteration no.\")\n",
    "    plt.ylabel(\"Relative residualresidue\")\n",
    "    _ = plt.semilogy()\n",
    "    return line, finish - start"
   ]
  },
  {
   "cell_type": "markdown",
   "metadata": {},
   "source": [
    "### b. Конкретные вариации метода простой итерации"
   ]
  },
  {
   "cell_type": "markdown",
   "metadata": {},
   "source": [
    "Будем запускать известные нам варианты метода простой итерации.\n",
    "\n",
    "##### Метод Ричардсона (4 балла)\n",
    "Начнём с метода Ричардсона. Реализуйте функцию `make_richardson_get_dx(A, tau)`, которая возвращает функцию, соответствующую методу Ричардсона (Richardson iteration) с фиксированным параметром $\\tau$."
   ]
  },
  {
   "cell_type": "code",
   "execution_count": 7,
   "metadata": {},
   "outputs": [],
   "source": [
    "def make_richardson_get_dx(A, tau):\n",
    "    \"\"\"\n",
    "        Input\n",
    "            A: square matrix\n",
    "            tau: parameter of Richardson iteration\n",
    "\n",
    "        Output\n",
    "            get_dx: function mapping r to Δx corresponding to Richardson iteration\n",
    "    \"\"\"\n",
    "    get_dx = lambda r: tau * r\n",
    "    return get_dx"
   ]
  },
  {
   "cell_type": "markdown",
   "metadata": {},
   "source": [
    "Помня, что старшее и младшее собственные (и сингулярные) числа матрицы $A$ равны $10$ и $10^{-2}$ соответственно,\n",
    "выберите 4 разных варианта для $\\tau$ из интервала, в котором гарантируется сходимость метода, включая оптимальное значение $\\tau$. Прокомментируйте полученный результат.\n",
    "\n",
    "**Решение:** из лекции 10 знаем, что для метода Ричардсона гарантируется сходимость при $\\tau \\in (0; \\frac{2}{\\lambda_{max}(A)})$"
   ]
  },
  {
   "cell_type": "code",
   "execution_count": 8,
   "metadata": {},
   "outputs": [
    {
     "name": "stdout",
     "output_type": "stream",
     "text": [
      "Runtime: 0.12 secs (0.00 preparation + 0.12 iters)\n",
      "Runtime: 0.11 secs (0.00 preparation + 0.11 iters)\n",
      "Runtime: 0.06 secs (0.00 preparation + 0.06 iters)\n"
     ]
    },
    {
     "data": {
      "image/png": "[encoded data removed]",
      "text/plain": [
       "<Figure size 432x288 with 1 Axes>"
      ]
     },
     "metadata": {
      "needs_background": "light"
     },
     "output_type": "display_data"
    }
   ],
   "source": [
    "taus = [0.01, 0.1, 2 / (10 + 1e-2)]\n",
    "lines = []\n",
    "labels = []\n",
    "for tau in taus:\n",
    "    line, _ = run_solver(simple_iteration, A, b, lambda: make_richardson_get_dx(A, tau), max_iter=10000)\n",
    "    lines.append(line)\n",
    "    labels.append(\"$\\\\tau = {:4.2f}$\".format(tau))\n",
    "_ = plt.legend(lines, labels)"
   ]
  },
  {
   "cell_type": "markdown",
   "metadata": {},
   "source": [
    "Также попробуйте 1 вариант вне интервала, в котором гарантируется сходимость. Например, отступите от границы интервала на 0.01. Прокомментируйте полученный результат."
   ]
  },
  {
   "cell_type": "code",
   "execution_count": 9,
   "metadata": {},
   "outputs": [
    {
     "name": "stdout",
     "output_type": "stream",
     "text": [
      "Runtime: 0.00 secs (0.00 preparation + 0.00 iters)\n"
     ]
    },
    {
     "data": {
      "image/png": "[encoded data removed]",
      "text/plain": [
       "<Figure size 432x288 with 1 Axes>"
      ]
     },
     "metadata": {
      "needs_background": "light"
     },
     "output_type": "display_data"
    }
   ],
   "source": [
    "outsider_tau = 2 / 10 + 0.01\n",
    "_ = run_solver(simple_iteration, A, b, lambda: make_richardson_get_dx(A, outsider_tau), max_iter=100)"
   ]
  },
  {
   "cell_type": "markdown",
   "metadata": {},
   "source": [
    "**Комментарий:** для ```tau``` вне диапазона получаем норму $||G||_2 = max_i|\\lambda_i(I - \\tau A)| > 1$, поэтому ошибка имеет возможность экспоненциально возрастать: $||e_{k}|| \\leq (1 + \\epsilon)^k ||e_0||$ уже не гарантирует сходимости"
   ]
  },
  {
   "cell_type": "markdown",
   "metadata": {},
   "source": [
    "##### Метод Якоби (4 балла)\n",
    "Реализуйте функцию `make_jacobi_get_dx(A)`, которая возвращает функцию, соответствующую методу Якоби (то есть $g_{\\mathrm{JAC}}(r) = \\mathrm{diag}(A)^{-1}r$)."
   ]
  },
  {
   "cell_type": "code",
   "execution_count": 10,
   "metadata": {},
   "outputs": [],
   "source": [
    "def make_jacobi_get_dx(A):\n",
    "    \"\"\"\n",
    "        Input\n",
    "            A: square matrix\n",
    "\n",
    "        Output\n",
    "            get_dx: function mapping r to Δx corresponding to Jacobi method\n",
    "    \"\"\"\n",
    "    get_dx = lambda r: r / np.diag(A)\n",
    "    return get_dx"
   ]
  },
  {
   "cell_type": "markdown",
   "metadata": {},
   "source": [
    "Запустим метод на нашей матрице. Объясните (неформально) полученный результат."
   ]
  },
  {
   "cell_type": "code",
   "execution_count": 11,
   "metadata": {},
   "outputs": [
    {
     "name": "stdout",
     "output_type": "stream",
     "text": [
      "Runtime: 0.00 secs (0.00 preparation + 0.00 iters)\n"
     ]
    },
    {
     "data": {
      "image/png": "[encoded data removed]",
      "text/plain": [
       "<Figure size 432x288 with 1 Axes>"
      ]
     },
     "metadata": {
      "needs_background": "light"
     },
     "output_type": "display_data"
    }
   ],
   "source": [
    "_ = run_solver(simple_iteration, A, b, lambda: make_jacobi_get_dx(A), max_iter=100)"
   ]
  },
  {
   "cell_type": "markdown",
   "metadata": {},
   "source": [
    "**Объяснение (нефомальное):** проверим матрицу на диагональное преобладание (см. Ячейку ниже). Матрица очень далека от того, чтобы быть примерно-диагональной-плюс-шумы, поэтому сходимость метода Якоби гарантировать не можем."
   ]
  },
  {
   "cell_type": "code",
   "execution_count": 12,
   "metadata": {},
   "outputs": [
    {
     "name": "stdout",
     "output_type": "stream",
     "text": [
      "641.9713374903096 1.2158424633865585\n"
     ]
    }
   ],
   "source": [
    "outer = np.abs(A).sum() - np.abs(np.diag(A)).sum()\n",
    "min_diag = np.abs(np.max(np.diag(A)))\n",
    "print(outer, min_diag)"
   ]
  },
  {
   "cell_type": "markdown",
   "metadata": {},
   "source": [
    "##### Метод Гаусса-Зейделя (4 балла)\n",
    "\n",
    "Реализуйте функцию `make_gauss_seidel_get_dx(A)`, которая возвращает функцию `get_dx`, соответствующую методу Гаусса-Зейделя."
   ]
  },
  {
   "cell_type": "code",
   "execution_count": 13,
   "metadata": {},
   "outputs": [],
   "source": [
    "from scipy.linalg import solve_triangular\n",
    "\n",
    "def make_gauss_seidel_get_dx(A):\n",
    "    \"\"\"\n",
    "        Input\n",
    "            A: square matrix\n",
    "\n",
    "        Output\n",
    "            get_dx: function mapping r to Δx corresponding to Gauss--Seidel method\n",
    "    \"\"\"\n",
    "    get_dx = lambda r: np.dot(solve_triangular(np.tril(A), np.eye(A.shape[0]), lower=True), r)\n",
    "    \n",
    "    return get_dx"
   ]
  },
  {
   "cell_type": "markdown",
   "metadata": {},
   "source": [
    "Запустим метод."
   ]
  },
  {
   "cell_type": "code",
   "execution_count": 14,
   "metadata": {},
   "outputs": [
    {
     "name": "stdout",
     "output_type": "stream",
     "text": [
      "Runtime: 0.70 secs (0.00 preparation + 0.70 iters)\n"
     ]
    },
    {
     "data": {
      "image/png": "[encoded data removed]",
      "text/plain": [
       "<Figure size 432x288 with 1 Axes>"
      ]
     },
     "metadata": {
      "needs_background": "light"
     },
     "output_type": "display_data"
    }
   ],
   "source": [
    "_ = run_solver(simple_iteration, A, b, lambda: make_gauss_seidel_get_dx(A))"
   ]
  },
  {
   "cell_type": "markdown",
   "metadata": {},
   "source": [
    "##### Метод скорейшего спуска (4 балла)\n",
    "\n",
    "Реализуйте функцию `make_steepest_descent_get_dx(A)`, которая возвращает функцию, соответствующую методу скорейшего спуска."
   ]
  },
  {
   "cell_type": "code",
   "execution_count": 15,
   "metadata": {},
   "outputs": [
    {
     "data": {
      "text/plain": [
       "36"
      ]
     },
     "execution_count": 15,
     "metadata": {},
     "output_type": "execute_result"
    }
   ],
   "source": [
    "y = np.array([1, 2, 3])\n",
    "X = np.array([[1,0,0],[0,2,0],[0,0,3]])\n",
    "np.dot(y, np.dot(X, y))"
   ]
  },
  {
   "cell_type": "code",
   "execution_count": 16,
   "metadata": {},
   "outputs": [],
   "source": [
    "def make_steepest_descent_get_dx(A):\n",
    "    \"\"\"\n",
    "        Input\n",
    "            A: square matrix\n",
    "\n",
    "        Output\n",
    "            get_dx: function mapping r to Δx corresponding to steepest descent method\n",
    "    \"\"\"\n",
    "    get_dx = lambda r_k: (np.dot(r_k, r_k) / np.dot(r_k, np.dot(A, r_k))) * r_k\n",
    "    return get_dx"
   ]
  },
  {
   "cell_type": "markdown",
   "metadata": {},
   "source": [
    "Запустим метод скорейшего спуска."
   ]
  },
  {
   "cell_type": "code",
   "execution_count": 17,
   "metadata": {},
   "outputs": [
    {
     "name": "stdout",
     "output_type": "stream",
     "text": [
      "Runtime: 0.05 secs (0.00 preparation + 0.05 iters)\n"
     ]
    },
    {
     "data": {
      "image/png": "[encoded data removed]",
      "text/plain": [
       "<Figure size 432x288 with 1 Axes>"
      ]
     },
     "metadata": {
      "needs_background": "light"
     },
     "output_type": "display_data"
    }
   ],
   "source": [
    "_ = run_solver(simple_iteration, A, b, lambda: make_steepest_descent_get_dx(A))"
   ]
  },
  {
   "cell_type": "markdown",
   "metadata": {},
   "source": [
    "##### Метод сопряжённых градиентов (8 баллов)\n",
    "\n",
    "Реализуйте обёртку над функцией `scipy.sparse.linalg.cg`. Набор параметров почти совпадает с функцией `simple_iteration`, за исключением некоторых деталей.\n",
    " 1. Третий параметр называется `preconditioner` вместо `get_dx`, но играет похожую роль. Он должен редставлять собой объект класса [LinearOperator](https://docs.scipy.org/doc/scipy/reference/generated/scipy.sparse.linalg.LinearOperator.html). Такие объекты имеют `.shape` и умеют делать умножение на вектор справа с помощью операции `@`. Этот параметр нужно передать в `scipy.sparse.linalg.cg`. В случае, когда он не None, будет запускаться [предобусловленный метод сопряжённых градиентов](https://en.wikipedia.org/wiki/Conjugate_gradient_method#The_preconditioned_conjugate_gradient_method).\n",
    " 2. Есть параметр `compute_residual`, отвечающий за необходимость вычислять относительные невязки (это вычисление требует дополнительного матрично-векторного умножения, поэтому увеличивает трудоёмкость). Если `compute_residual == False`, возвращаемый список `residual_norms` должен быть пуст.\n",
    " \n",
    "При написании данной функции пользуйтесь [документацией](https://docs.scipy.org/doc/scipy/reference/generated/scipy.sparse.linalg.cg.html#scipy.sparse.linalg.cg) для `scipy.sparse.linalg.cg`. Особенно обратите внимание на параметр `callback`, он вам точно понадобится."
   ]
  },
  {
   "cell_type": "code",
   "execution_count": 18,
   "metadata": {},
   "outputs": [
    {
     "name": "stdout",
     "output_type": "stream",
     "text": [
      "[5]\n"
     ]
    }
   ],
   "source": [
    "def modify_list(val):\n",
    "    a.append(val)\n",
    "a = []\n",
    "val = 5\n",
    "modify_list(val)\n",
    "print(a)"
   ]
  },
  {
   "cell_type": "code",
   "execution_count": 34,
   "metadata": {},
   "outputs": [],
   "source": [
    "import inspect\n",
    "\n",
    "def conjugate_gradients(A, b, preconditioner=None, x0=None, tol=1e-5, max_iter=None, debug=False, compute_residual=True):\n",
    "    \"\"\"\n",
    "        Input\n",
    "            A: dense or sparse square matrix\n",
    "            b: right part of equation\n",
    "            preconditioner: scipy.sparse.linalg.LinearOperator\n",
    "            x0: initial guess for solution\n",
    "            tol: relative residual to achieve\n",
    "            max_iter: if specified, no more that this number of iterations will be performed\n",
    "            debug: if True, output iteration no. and relative residual norm (||r||_2/||b||_2) at each iteration\n",
    "            compute_residual: whether to compute and output relative residualresidue norms\n",
    "\n",
    "        Output\n",
    "            x: found approximate solution\n",
    "            residual_norms: relative residual norms at each iteration (empty if compute_residualresidues=False)\n",
    "    \"\"\"\n",
    "    residual_norms = []\n",
    "    # со мной поделились отличным хаком для дебаг-вывода:\n",
    "    # https://stackoverflow.com/questions/14243579/print-current-residual-from-callback-in-scipy-sparse-linalg-cg\n",
    "    # https://github.com/scipy/scipy/blob/master/scipy/sparse/linalg/isolve/iterative.py\n",
    "    def user_callback(x_k):\n",
    "        frame = inspect.currentframe().f_back\n",
    "        step = frame.f_locals['iter_']\n",
    "        \n",
    "        r_k = frame.f_locals['resid']\n",
    "        # r_k = b - A @ x_k  # более прямой путь\n",
    "        \n",
    "        resid_norm = np.linalg.norm(r_k) / np.linalg.norm(b)\n",
    "        if debug:\n",
    "            print(\"step:\", step, \"residual norm:\", resid_norm)\n",
    "        if compute_residual:\n",
    "            residual_norms.append(resid_norm)\n",
    "    \n",
    "    if x0 is None:\n",
    "        #np.zeros(shape=b.shape)\n",
    "        x0 = np.random.normal(size=b.shape[0])\n",
    "    \n",
    "    callback_func = user_callback if compute_residual or debug else lambda x_k: None\n",
    "    \n",
    "    x = spla.cg(A, b, x0=x0, M=preconditioner, tol=tol, maxiter=max_iter, callback=callback_func)\n",
    "    \n",
    "    return x, residual_norms\n",
    "    "
   ]
  },
  {
   "cell_type": "markdown",
   "metadata": {},
   "source": [
    "Запустим метод сопряжённых градиентов на нашей задаче."
   ]
  },
  {
   "cell_type": "code",
   "execution_count": 20,
   "metadata": {},
   "outputs": [
    {
     "name": "stdout",
     "output_type": "stream",
     "text": [
      "step: 2 residual norm: 1.7234011703936623\n",
      "step: 3 residual norm: 2.386759509795836\n",
      "step: 4 residual norm: 1.8674484093389363\n",
      "step: 5 residual norm: 1.1792370512631685\n",
      "step: 6 residual norm: 0.7297139055178166\n",
      "step: 7 residual norm: 0.5832126899566612\n",
      "step: 8 residual norm: 0.2993665392792864\n",
      "step: 9 residual norm: 0.1651816419758308\n",
      "step: 10 residual norm: 0.11554340105460154\n",
      "step: 11 residual norm: 0.6718244472251347\n",
      "step: 12 residual norm: 0.06865630854725446\n",
      "step: 13 residual norm: 0.03446260524485518\n",
      "step: 14 residual norm: 0.023889903414850734\n",
      "step: 15 residual norm: 0.013253632007548616\n",
      "step: 16 residual norm: 0.008319137198597101\n",
      "step: 17 residual norm: 0.004184787782637166\n",
      "step: 18 residual norm: 0.0050006450312625635\n",
      "step: 19 residual norm: 0.0026410691240549445\n",
      "step: 20 residual norm: 0.002174089053767059\n",
      "step: 21 residual norm: 0.0014134363416754834\n",
      "step: 22 residual norm: 0.0006805921434015706\n",
      "step: 23 residual norm: 0.00037787221051452645\n",
      "step: 24 residual norm: 0.000161209232317203\n",
      "step: 25 residual norm: 0.00020835150078781834\n",
      "step: 26 residual norm: 0.00012682141993863394\n",
      "step: 27 residual norm: 0.0001752694849859847\n",
      "step: 28 residual norm: 4.494978923079903e-05\n",
      "step: 29 residual norm: 1.919248212569783e-05\n",
      "step: 30 residual norm: 1.2273568370953398e-05\n",
      "step: 31 residual norm: 1.4455686312890663e-05\n",
      "step: 31 residual norm: 3.60098805990529e-06\n",
      "Runtime: 0.00 secs (0.00 preparation + 0.00 iters)\n"
     ]
    },
    {
     "data": {
      "image/png": "[encoded data removed]",
      "text/plain": [
       "<Figure size 432x288 with 1 Axes>"
      ]
     },
     "metadata": {
      "needs_background": "light"
     },
     "output_type": "display_data"
    }
   ],
   "source": [
    "_ = run_solver(conjugate_gradients, A, b, lambda: None, compute_residual=True, debug=True)"
   ]
  },
  {
   "cell_type": "markdown",
   "metadata": {},
   "source": [
    "## 2. Применение к большим разреженным матрицам (15 баллов)\n",
    "\n",
    "До сих пор больших проблем со сходимостью методов на тестовой матрице не возникало. Но в практических задачах могут возникать весьма неприятные матрицы. Давайте скачаем [файл G2_circuit.mat](https://sparse.tamu.edu/AMD/G2_circuit) (для удобства мы уже положили его в одну папку с данным ноутбуком; по ссылке можно ознакомиться с шаблоном разреженности матрицы и ее графом) с некоторой разреженной матрицей из коллекции разреженных матриц Флоридского университета https://sparse.tamu.edu. Отметим, что выбранная матрица соответствует некоторой задаче физической симуляции работы интегральной схемы (вероятно из процессора AMD).\n",
    "\n",
    "На сайте коллекции можно не только сортировать матрицы по размерам и числу ненулевых элементов, но и фильтровать по разным свойствам. Например, упомянутая матрица является симметричной положительно определённой, что будет нам очень на руку.\n",
    "\n",
    "Загрузим файл (он в матлабовском формате .mat, но scipy справится). Также выберем некоторый случайный вектор в качестве правой части."
   ]
  },
  {
   "cell_type": "code",
   "execution_count": 21,
   "metadata": {},
   "outputs": [
    {
     "name": "stdout",
     "output_type": "stream",
     "text": [
      "150102 x 150102, nnz: 726674, density: 3.23e-05\n"
     ]
    }
   ],
   "source": [
    "import scipy.io\n",
    "A = scipy.io.loadmat(\"data/G2_circuit.mat\")[\"Problem\"][0][0][2]\n",
    "assert A.shape[0] == A.shape[1]\n",
    "n = A.shape[0]\n",
    "print(\"{} x {}, nnz: {}, density: {:.3}\".format(n, n, A.nnz, A.nnz / float(n**2)))\n",
    "b = np.random.random(n)"
   ]
  },
  {
   "cell_type": "markdown",
   "metadata": {},
   "source": [
    "### a. Прямой солвер (5 баллов)"
   ]
  },
  {
   "cell_type": "markdown",
   "metadata": {},
   "source": [
    "Вычислите разреженное LU-разложение матрицы $A$, а затем с помощью него точное решение задачи $Ax = b$"
   ]
  },
  {
   "cell_type": "code",
   "execution_count": 22,
   "metadata": {},
   "outputs": [],
   "source": [
    "def solve_exact(A, b):\n",
    "    \"\"\"\n",
    "        Solve system Ax=b using sparse LU decomposition.\n",
    "\n",
    "        Input\n",
    "            A: square sparse matrix\n",
    "            b: right part\n",
    "\n",
    "        Output\n",
    "            x: solution of Ax=b\n",
    "    \"\"\"\n",
    "    return spla.splu(A).solve(b)"
   ]
  },
  {
   "cell_type": "markdown",
   "metadata": {},
   "source": [
    "Замерим время работы прямого алгоритма. "
   ]
  },
  {
   "cell_type": "code",
   "execution_count": 23,
   "metadata": {},
   "outputs": [
    {
     "name": "stdout",
     "output_type": "stream",
     "text": [
      "5.12 s ± 0 ns per loop (mean ± std. dev. of 1 run, 1 loop each)\n"
     ]
    }
   ],
   "source": [
    "%timeit -r 1 -n 1 exact = solve_exact(A, b)"
   ]
  },
  {
   "cell_type": "markdown",
   "metadata": {},
   "source": [
    "Будем пробовать применять известные нам вариации метода простой итерации. Для начала запустим метод наискорейшего спуска."
   ]
  },
  {
   "cell_type": "code",
   "execution_count": 24,
   "metadata": {},
   "outputs": [],
   "source": [
    "# kernel died. хорошо хоть сохранился до запуска\n",
    "# _ = run_solver(simple_iteration, A, b, lambda: make_steepest_descent_get_dx(A), max_iter=1000)"
   ]
  },
  {
   "cell_type": "markdown",
   "metadata": {},
   "source": [
    "Судя по всему, матрица очень плохо обусловлена, и обычным методом простой итерации решить с ней систему будет нетривиально. Что же,  у нас есть серебряная пуля: метод сопряжённых градиентов. Запустите его!"
   ]
  },
  {
   "cell_type": "code",
   "execution_count": 25,
   "metadata": {},
   "outputs": [
    {
     "name": "stdout",
     "output_type": "stream",
     "text": [
      "Runtime: 3.12 secs (0.00 preparation + 3.12 iters)\n"
     ]
    },
    {
     "data": {
      "image/png": "[encoded data removed]",
      "text/plain": [
       "<Figure size 432x288 with 1 Axes>"
      ]
     },
     "metadata": {
      "needs_background": "light"
     },
     "output_type": "display_data"
    }
   ],
   "source": [
    "_ = run_solver(conjugate_gradients, A, b, lambda: None, max_iter=1000)"
   ]
  },
  {
   "cell_type": "markdown",
   "metadata": {},
   "source": [
    "Кажется, матрица столь плохо обусловлена, что нас не спасает даже метод сопряжённых градиентов.\n",
    "Есть ещё один шанс в таком случае &mdash; попробовать применить предобуславливатель.\n",
    "\n",
    "### b. Предобусловленный метод сопряжённых градиентов (15 баллов)\n",
    "\n",
    "\n",
    "##### Построение предобуславливателя (10 баллов)\n",
    "\n",
    "Классический предобуславливатель для CG &mdash; это incomplete LU (ILU) decomposition, в котором по различным правилам отбрасываются возникающие заполнения. Реализуйте ILU-предобуславливатель, используя функцию `scipy.sparse.linalg.spilu`.\n",
    "Параметры `fill_factor` и `drop_tol` нужны для настройки метода ILU. `fill_factor` отвечает за то, во сколько раз можно увеличить заполнение матрицы при вычислении неполного LU-разложения. `drop_tol` &mdash; это относительная величина элементов, меньше которой мы считаем их нулями. Эти параметры нужно передать в функцию `spilu`.\n",
    "\n",
    "Не забудьте, что функция `make_ilu_prec` должна вернуть `scipy.sparse.linalg.LinearOperator`!"
   ]
  },
  {
   "cell_type": "code",
   "execution_count": 26,
   "metadata": {},
   "outputs": [],
   "source": [
    "def make_ilu_prec(A, fill_factor=10, drop_tol=1e-4):\n",
    "    \"\"\"\n",
    "        Input:\n",
    "            A: sparse square matrix\n",
    "            fill_factor: ILU fill ratio upper bound\n",
    "            drop_tol: ILU drop tolerance\n",
    "            \n",
    "        Output:\n",
    "            preconditioner: LinearOperator\n",
    "    \"\"\"\n",
    "    \n",
    "    \n",
    "    ilu = lambda x: spla.spilu(A, drop_tol=drop_tol, fill_factor=fill_factor).solve(x)\n",
    "    precond = spla.LinearOperator(A.shape, ilu)\n",
    "    \n",
    "    return precond"
   ]
  },
  {
   "cell_type": "markdown",
   "metadata": {},
   "source": [
    "Запустим метод на нашей матрице."
   ]
  },
  {
   "cell_type": "code",
   "execution_count": 27,
   "metadata": {},
   "outputs": [
    {
     "name": "stdout",
     "output_type": "stream",
     "text": [
      "step: 2 residual norm: 158.22316651640892\n",
      "step: 3 residual norm: 96.08244072684683\n",
      "step: 4 residual norm: 65.8433586754419\n",
      "step: 5 residual norm: 26.12854366226459\n",
      "step: 6 residual norm: 48.22240130849943\n",
      "step: 7 residual norm: 33.002479971239275\n",
      "step: 8 residual norm: 40.47955350342897\n"
     ]
    },
    {
     "ename": "KeyboardInterrupt",
     "evalue": "",
     "output_type": "error",
     "traceback": [
      "\u001b[0;31m---------------------------------------------------------------------------\u001b[0m",
      "\u001b[0;31mKeyboardInterrupt\u001b[0m                         Traceback (most recent call last)",
      "\u001b[0;32m<ipython-input-27-e742fdddae2b>\u001b[0m in \u001b[0;36m<module>\u001b[0;34m\u001b[0m\n\u001b[0;32m----> 1\u001b[0;31m \u001b[0m_\u001b[0m \u001b[0;34m=\u001b[0m \u001b[0mrun_solver\u001b[0m\u001b[0;34m(\u001b[0m\u001b[0mconjugate_gradients\u001b[0m\u001b[0;34m,\u001b[0m \u001b[0mA\u001b[0m\u001b[0;34m,\u001b[0m \u001b[0mb\u001b[0m\u001b[0;34m,\u001b[0m \u001b[0;32mlambda\u001b[0m\u001b[0;34m:\u001b[0m \u001b[0mmake_ilu_prec\u001b[0m\u001b[0;34m(\u001b[0m\u001b[0mA\u001b[0m\u001b[0;34m)\u001b[0m\u001b[0;34m,\u001b[0m \u001b[0mmax_iter\u001b[0m\u001b[0;34m=\u001b[0m\u001b[0;36m100\u001b[0m\u001b[0;34m,\u001b[0m \u001b[0mdebug\u001b[0m\u001b[0;34m=\u001b[0m\u001b[0;32mTrue\u001b[0m\u001b[0;34m)\u001b[0m\u001b[0;34m\u001b[0m\u001b[0;34m\u001b[0m\u001b[0m\n\u001b[0m",
      "\u001b[0;32m<ipython-input-6-556e20bc07d9>\u001b[0m in \u001b[0;36mrun_solver\u001b[0;34m(solver, A, b, make_get_dx, **kwargs)\u001b[0m\n\u001b[1;32m      3\u001b[0m     \u001b[0mget_dx\u001b[0m \u001b[0;34m=\u001b[0m \u001b[0mmake_get_dx\u001b[0m\u001b[0;34m(\u001b[0m\u001b[0;34m)\u001b[0m\u001b[0;34m\u001b[0m\u001b[0;34m\u001b[0m\u001b[0m\n\u001b[1;32m      4\u001b[0m     \u001b[0mget_dx_time\u001b[0m \u001b[0;34m=\u001b[0m \u001b[0mtime\u001b[0m\u001b[0;34m.\u001b[0m\u001b[0mtime\u001b[0m\u001b[0;34m(\u001b[0m\u001b[0;34m)\u001b[0m\u001b[0;34m\u001b[0m\u001b[0;34m\u001b[0m\u001b[0m\n\u001b[0;32m----> 5\u001b[0;31m     \u001b[0mx\u001b[0m\u001b[0;34m,\u001b[0m \u001b[0mrs\u001b[0m \u001b[0;34m=\u001b[0m \u001b[0msolver\u001b[0m\u001b[0;34m(\u001b[0m\u001b[0mA\u001b[0m\u001b[0;34m,\u001b[0m \u001b[0mb\u001b[0m\u001b[0;34m,\u001b[0m \u001b[0mget_dx\u001b[0m\u001b[0;34m,\u001b[0m \u001b[0;34m**\u001b[0m\u001b[0mkwargs\u001b[0m\u001b[0;34m)\u001b[0m\u001b[0;34m\u001b[0m\u001b[0;34m\u001b[0m\u001b[0m\n\u001b[0m\u001b[1;32m      6\u001b[0m     \u001b[0mfinish\u001b[0m \u001b[0;34m=\u001b[0m \u001b[0mtime\u001b[0m\u001b[0;34m.\u001b[0m\u001b[0mtime\u001b[0m\u001b[0;34m(\u001b[0m\u001b[0;34m)\u001b[0m\u001b[0;34m\u001b[0m\u001b[0;34m\u001b[0m\u001b[0m\n\u001b[1;32m      7\u001b[0m     print(\"Runtime: {:4.2f} secs ({:4.2f} preparation + {:4.2f} iters)\".format(\n",
      "\u001b[0;32m<ipython-input-19-0b9fcaaf50b7>\u001b[0m in \u001b[0;36mconjugate_gradients\u001b[0;34m(A, b, preconditioner, x0, tol, max_iter, debug, compute_residual)\u001b[0m\n\u001b[1;32m     39\u001b[0m     \u001b[0mcallback_func\u001b[0m \u001b[0;34m=\u001b[0m \u001b[0muser_callback\u001b[0m \u001b[0;32mif\u001b[0m \u001b[0mcompute_residual\u001b[0m \u001b[0;32mor\u001b[0m \u001b[0mdebug\u001b[0m \u001b[0;32melse\u001b[0m \u001b[0;32mlambda\u001b[0m \u001b[0mx_k\u001b[0m\u001b[0;34m:\u001b[0m \u001b[0;32mNone\u001b[0m\u001b[0;34m\u001b[0m\u001b[0;34m\u001b[0m\u001b[0m\n\u001b[1;32m     40\u001b[0m \u001b[0;34m\u001b[0m\u001b[0m\n\u001b[0;32m---> 41\u001b[0;31m     \u001b[0mx\u001b[0m \u001b[0;34m=\u001b[0m \u001b[0mspla\u001b[0m\u001b[0;34m.\u001b[0m\u001b[0mcg\u001b[0m\u001b[0;34m(\u001b[0m\u001b[0mA\u001b[0m\u001b[0;34m,\u001b[0m \u001b[0mb\u001b[0m\u001b[0;34m,\u001b[0m \u001b[0mx0\u001b[0m\u001b[0;34m=\u001b[0m\u001b[0mx0\u001b[0m\u001b[0;34m,\u001b[0m \u001b[0mM\u001b[0m\u001b[0;34m=\u001b[0m\u001b[0mpreconditioner\u001b[0m\u001b[0;34m,\u001b[0m \u001b[0mtol\u001b[0m\u001b[0;34m=\u001b[0m\u001b[0mtol\u001b[0m\u001b[0;34m,\u001b[0m \u001b[0mmaxiter\u001b[0m\u001b[0;34m=\u001b[0m\u001b[0mmax_iter\u001b[0m\u001b[0;34m,\u001b[0m \u001b[0mcallback\u001b[0m\u001b[0;34m=\u001b[0m\u001b[0mcallback_func\u001b[0m\u001b[0;34m)\u001b[0m\u001b[0;34m\u001b[0m\u001b[0;34m\u001b[0m\u001b[0m\n\u001b[0m\u001b[1;32m     42\u001b[0m \u001b[0;34m\u001b[0m\u001b[0m\n\u001b[1;32m     43\u001b[0m     \u001b[0;32mreturn\u001b[0m \u001b[0mx\u001b[0m\u001b[0;34m,\u001b[0m \u001b[0mresidual_norms\u001b[0m\u001b[0;34m\u001b[0m\u001b[0;34m\u001b[0m\u001b[0m\n",
      "\u001b[0;32m~/Apps/anaconda3/envs/py37/lib/python3.7/site-packages/scipy/sparse/linalg/isolve/iterative.py\u001b[0m in \u001b[0;36mcg\u001b[0;34m(A, b, x0, tol, maxiter, M, callback, atol)\u001b[0m\n",
      "\u001b[0;32m~/Apps/anaconda3/envs/py37/lib/python3.7/site-packages/scipy/_lib/_threadsafety.py\u001b[0m in \u001b[0;36mcaller\u001b[0;34m(func, *a, **kw)\u001b[0m\n\u001b[1;32m     42\u001b[0m         \u001b[0;32mdef\u001b[0m \u001b[0mcaller\u001b[0m\u001b[0;34m(\u001b[0m\u001b[0mfunc\u001b[0m\u001b[0;34m,\u001b[0m \u001b[0;34m*\u001b[0m\u001b[0ma\u001b[0m\u001b[0;34m,\u001b[0m \u001b[0;34m**\u001b[0m\u001b[0mkw\u001b[0m\u001b[0;34m)\u001b[0m\u001b[0;34m:\u001b[0m\u001b[0;34m\u001b[0m\u001b[0;34m\u001b[0m\u001b[0m\n\u001b[1;32m     43\u001b[0m             \u001b[0;32mwith\u001b[0m \u001b[0mself\u001b[0m\u001b[0;34m:\u001b[0m\u001b[0;34m\u001b[0m\u001b[0;34m\u001b[0m\u001b[0m\n\u001b[0;32m---> 44\u001b[0;31m                 \u001b[0;32mreturn\u001b[0m \u001b[0mfunc\u001b[0m\u001b[0;34m(\u001b[0m\u001b[0;34m*\u001b[0m\u001b[0ma\u001b[0m\u001b[0;34m,\u001b[0m \u001b[0;34m**\u001b[0m\u001b[0mkw\u001b[0m\u001b[0;34m)\u001b[0m\u001b[0;34m\u001b[0m\u001b[0;34m\u001b[0m\u001b[0m\n\u001b[0m\u001b[1;32m     45\u001b[0m         \u001b[0;32mreturn\u001b[0m \u001b[0mscipy\u001b[0m\u001b[0;34m.\u001b[0m\u001b[0m_lib\u001b[0m\u001b[0;34m.\u001b[0m\u001b[0mdecorator\u001b[0m\u001b[0;34m.\u001b[0m\u001b[0mdecorate\u001b[0m\u001b[0;34m(\u001b[0m\u001b[0mfunc\u001b[0m\u001b[0;34m,\u001b[0m \u001b[0mcaller\u001b[0m\u001b[0;34m)\u001b[0m\u001b[0;34m\u001b[0m\u001b[0;34m\u001b[0m\u001b[0m\n\u001b[1;32m     46\u001b[0m \u001b[0;34m\u001b[0m\u001b[0m\n",
      "\u001b[0;32m~/Apps/anaconda3/envs/py37/lib/python3.7/site-packages/scipy/sparse/linalg/isolve/iterative.py\u001b[0m in \u001b[0;36mcg\u001b[0;34m(A, b, x0, tol, maxiter, M, callback, atol)\u001b[0m\n\u001b[1;32m    329\u001b[0m             \u001b[0mwork\u001b[0m\u001b[0;34m[\u001b[0m\u001b[0mslice2\u001b[0m\u001b[0;34m]\u001b[0m \u001b[0;34m+=\u001b[0m \u001b[0msclr1\u001b[0m\u001b[0;34m*\u001b[0m\u001b[0mmatvec\u001b[0m\u001b[0;34m(\u001b[0m\u001b[0mwork\u001b[0m\u001b[0;34m[\u001b[0m\u001b[0mslice1\u001b[0m\u001b[0;34m]\u001b[0m\u001b[0;34m)\u001b[0m\u001b[0;34m\u001b[0m\u001b[0;34m\u001b[0m\u001b[0m\n\u001b[1;32m    330\u001b[0m         \u001b[0;32melif\u001b[0m \u001b[0;34m(\u001b[0m\u001b[0mijob\u001b[0m \u001b[0;34m==\u001b[0m \u001b[0;36m2\u001b[0m\u001b[0;34m)\u001b[0m\u001b[0;34m:\u001b[0m\u001b[0;34m\u001b[0m\u001b[0;34m\u001b[0m\u001b[0m\n\u001b[0;32m--> 331\u001b[0;31m             \u001b[0mwork\u001b[0m\u001b[0;34m[\u001b[0m\u001b[0mslice1\u001b[0m\u001b[0;34m]\u001b[0m \u001b[0;34m=\u001b[0m \u001b[0mpsolve\u001b[0m\u001b[0;34m(\u001b[0m\u001b[0mwork\u001b[0m\u001b[0;34m[\u001b[0m\u001b[0mslice2\u001b[0m\u001b[0;34m]\u001b[0m\u001b[0;34m)\u001b[0m\u001b[0;34m\u001b[0m\u001b[0;34m\u001b[0m\u001b[0m\n\u001b[0m\u001b[1;32m    332\u001b[0m         \u001b[0;32melif\u001b[0m \u001b[0;34m(\u001b[0m\u001b[0mijob\u001b[0m \u001b[0;34m==\u001b[0m \u001b[0;36m3\u001b[0m\u001b[0;34m)\u001b[0m\u001b[0;34m:\u001b[0m\u001b[0;34m\u001b[0m\u001b[0;34m\u001b[0m\u001b[0m\n\u001b[1;32m    333\u001b[0m             \u001b[0mwork\u001b[0m\u001b[0;34m[\u001b[0m\u001b[0mslice2\u001b[0m\u001b[0;34m]\u001b[0m \u001b[0;34m*=\u001b[0m \u001b[0msclr2\u001b[0m\u001b[0;34m\u001b[0m\u001b[0;34m\u001b[0m\u001b[0m\n",
      "\u001b[0;32m~/Apps/anaconda3/envs/py37/lib/python3.7/site-packages/scipy/sparse/linalg/interface.py\u001b[0m in \u001b[0;36mmatvec\u001b[0;34m(self, x)\u001b[0m\n\u001b[1;32m    230\u001b[0m             \u001b[0;32mraise\u001b[0m \u001b[0mValueError\u001b[0m\u001b[0;34m(\u001b[0m\u001b[0;34m'dimension mismatch'\u001b[0m\u001b[0;34m)\u001b[0m\u001b[0;34m\u001b[0m\u001b[0;34m\u001b[0m\u001b[0m\n\u001b[1;32m    231\u001b[0m \u001b[0;34m\u001b[0m\u001b[0m\n\u001b[0;32m--> 232\u001b[0;31m         \u001b[0my\u001b[0m \u001b[0;34m=\u001b[0m \u001b[0mself\u001b[0m\u001b[0;34m.\u001b[0m\u001b[0m_matvec\u001b[0m\u001b[0;34m(\u001b[0m\u001b[0mx\u001b[0m\u001b[0;34m)\u001b[0m\u001b[0;34m\u001b[0m\u001b[0;34m\u001b[0m\u001b[0m\n\u001b[0m\u001b[1;32m    233\u001b[0m \u001b[0;34m\u001b[0m\u001b[0m\n\u001b[1;32m    234\u001b[0m         \u001b[0;32mif\u001b[0m \u001b[0misinstance\u001b[0m\u001b[0;34m(\u001b[0m\u001b[0mx\u001b[0m\u001b[0;34m,\u001b[0m \u001b[0mnp\u001b[0m\u001b[0;34m.\u001b[0m\u001b[0mmatrix\u001b[0m\u001b[0;34m)\u001b[0m\u001b[0;34m:\u001b[0m\u001b[0;34m\u001b[0m\u001b[0;34m\u001b[0m\u001b[0m\n",
      "\u001b[0;32m~/Apps/anaconda3/envs/py37/lib/python3.7/site-packages/scipy/sparse/linalg/interface.py\u001b[0m in \u001b[0;36m_matvec\u001b[0;34m(self, x)\u001b[0m\n\u001b[1;32m    528\u001b[0m \u001b[0;34m\u001b[0m\u001b[0m\n\u001b[1;32m    529\u001b[0m     \u001b[0;32mdef\u001b[0m \u001b[0m_matvec\u001b[0m\u001b[0;34m(\u001b[0m\u001b[0mself\u001b[0m\u001b[0;34m,\u001b[0m \u001b[0mx\u001b[0m\u001b[0;34m)\u001b[0m\u001b[0;34m:\u001b[0m\u001b[0;34m\u001b[0m\u001b[0;34m\u001b[0m\u001b[0m\n\u001b[0;32m--> 530\u001b[0;31m         \u001b[0;32mreturn\u001b[0m \u001b[0mself\u001b[0m\u001b[0;34m.\u001b[0m\u001b[0m__matvec_impl\u001b[0m\u001b[0;34m(\u001b[0m\u001b[0mx\u001b[0m\u001b[0;34m)\u001b[0m\u001b[0;34m\u001b[0m\u001b[0;34m\u001b[0m\u001b[0m\n\u001b[0m\u001b[1;32m    531\u001b[0m \u001b[0;34m\u001b[0m\u001b[0m\n\u001b[1;32m    532\u001b[0m     \u001b[0;32mdef\u001b[0m \u001b[0m_rmatvec\u001b[0m\u001b[0;34m(\u001b[0m\u001b[0mself\u001b[0m\u001b[0;34m,\u001b[0m \u001b[0mx\u001b[0m\u001b[0;34m)\u001b[0m\u001b[0;34m:\u001b[0m\u001b[0;34m\u001b[0m\u001b[0;34m\u001b[0m\u001b[0m\n",
      "\u001b[0;32m<ipython-input-26-31acf16d453d>\u001b[0m in \u001b[0;36m<lambda>\u001b[0;34m(x)\u001b[0m\n\u001b[1;32m     11\u001b[0m \u001b[0;34m\u001b[0m\u001b[0m\n\u001b[1;32m     12\u001b[0m \u001b[0;34m\u001b[0m\u001b[0m\n\u001b[0;32m---> 13\u001b[0;31m     \u001b[0milu\u001b[0m \u001b[0;34m=\u001b[0m \u001b[0;32mlambda\u001b[0m \u001b[0mx\u001b[0m\u001b[0;34m:\u001b[0m \u001b[0mspla\u001b[0m\u001b[0;34m.\u001b[0m\u001b[0mspilu\u001b[0m\u001b[0;34m(\u001b[0m\u001b[0mA\u001b[0m\u001b[0;34m,\u001b[0m \u001b[0mdrop_tol\u001b[0m\u001b[0;34m=\u001b[0m\u001b[0mdrop_tol\u001b[0m\u001b[0;34m,\u001b[0m \u001b[0mfill_factor\u001b[0m\u001b[0;34m=\u001b[0m\u001b[0mfill_factor\u001b[0m\u001b[0;34m)\u001b[0m\u001b[0;34m.\u001b[0m\u001b[0msolve\u001b[0m\u001b[0;34m(\u001b[0m\u001b[0mx\u001b[0m\u001b[0;34m)\u001b[0m\u001b[0;34m\u001b[0m\u001b[0;34m\u001b[0m\u001b[0m\n\u001b[0m\u001b[1;32m     14\u001b[0m     \u001b[0mprecond\u001b[0m \u001b[0;34m=\u001b[0m \u001b[0mspla\u001b[0m\u001b[0;34m.\u001b[0m\u001b[0mLinearOperator\u001b[0m\u001b[0;34m(\u001b[0m\u001b[0mA\u001b[0m\u001b[0;34m.\u001b[0m\u001b[0mshape\u001b[0m\u001b[0;34m,\u001b[0m \u001b[0milu\u001b[0m\u001b[0;34m)\u001b[0m\u001b[0;34m\u001b[0m\u001b[0;34m\u001b[0m\u001b[0m\n\u001b[1;32m     15\u001b[0m \u001b[0;34m\u001b[0m\u001b[0m\n",
      "\u001b[0;32m~/Apps/anaconda3/envs/py37/lib/python3.7/site-packages/scipy/sparse/linalg/dsolve/linsolve.py\u001b[0m in \u001b[0;36mspilu\u001b[0;34m(A, drop_tol, fill_factor, drop_rule, permc_spec, diag_pivot_thresh, relax, panel_size, options)\u001b[0m\n\u001b[1;32m    428\u001b[0m     return _superlu.gstrf(N, A.nnz, A.data, A.indices, A.indptr,\n\u001b[1;32m    429\u001b[0m                           \u001b[0mcsc_construct_func\u001b[0m\u001b[0;34m=\u001b[0m\u001b[0mcsc_construct_func\u001b[0m\u001b[0;34m,\u001b[0m\u001b[0;34m\u001b[0m\u001b[0;34m\u001b[0m\u001b[0m\n\u001b[0;32m--> 430\u001b[0;31m                           ilu=True, options=_options)\n\u001b[0m\u001b[1;32m    431\u001b[0m \u001b[0;34m\u001b[0m\u001b[0m\n\u001b[1;32m    432\u001b[0m \u001b[0;34m\u001b[0m\u001b[0m\n",
      "\u001b[0;31mKeyboardInterrupt\u001b[0m: "
     ]
    }
   ],
   "source": [
    "_ = run_solver(conjugate_gradients, A, b, lambda: make_ilu_prec(A), max_iter=100, debug=True)"
   ]
  },
  {
   "cell_type": "markdown",
   "metadata": {},
   "source": [
    "Метод расходится! Кажется, нас уже ничего не спасёт. Но ILU-предобуславливатель может быть достаточно чувствителен к параметрам `fill_factor` и `drop_tol`. Переберём параметры на сетке 3 на 3 `[10, 20, 50] x [1e-4, 1e-5, 1e-6]`."
   ]
  },
  {
   "cell_type": "code",
   "execution_count": null,
   "metadata": {
    "scrolled": false
   },
   "outputs": [],
   "source": [
    "plt.figure(figsize=(15,8))\n",
    "lines = []\n",
    "labels = []\n",
    "for ff in [10, 20, 50]:\n",
    "    for dt in [1e-4, 1e-5, 1e-6]:\n",
    "        print(\"Fill factor {}, drop tolerance {}\".format(ff, dt))\n",
    "        make_prec = lambda: make_ilu_prec(A, fill_factor=ff, drop_tol=dt)\n",
    "        line, t = run_solver(conjugate_gradients, A, b, make_prec, max_iter=100)\n",
    "        lines.append(line)\n",
    "        labels.append(\"ff {}, dt {:2.0e}, t {:4.2f}\".format(ff, dt, t))\n",
    "\n",
    "_ = plt.legend(lines, labels)"
   ]
  },
  {
   "cell_type": "markdown",
   "metadata": {},
   "source": [
    "Объясните, как согласуется наблюдаемый эффект немонотонности невязки с тем, что на каждой итерации подпространство Крылова увеличивается, и найденное приближение должно быть ближе к решению.\n",
    "\n",
    "**Объяснение:** к сожалению, только на пальцах, но вроде суть ясна: по сути, единственное требование к невязке, которые мы предъявляем - её ортогональность текущему подпространству Крылова $K_k$ (так как это требование - переформулировка минимизации функционала энергии). Поэтому может возникнуть такая ситуация: пусть $r_k \\in K_3 / (K_3 \\cap K_2)$, то есть лежит \"ровно\" в $K_3$. Тогда она будет удовлетворять условию ортогональности для $k \\leq 2$, а для $k = 3$ уже придётся искать новую невязку, и не факт, что она будет хорошей по норме, главное, что она должна быть ортогональна $K_3$. То есть, насколько я понял, метод вообще нам не гарантирует монотонной сходимости по норме невязки, просто так получается, что он быстрый, потому что он вычислительно быстрее остальных (при правильном подборе гиперпарметров), и при этом невязка в основном убывает."
   ]
  },
  {
   "cell_type": "markdown",
   "metadata": {},
   "source": [
    "##### Preconditioned CG vs sparse LU (5 баллов)"
   ]
  },
  {
   "cell_type": "markdown",
   "metadata": {},
   "source": [
    "Для каких параметров метод сошёлся? [**Ответ:** метод сходится при Fill_factor = 50.] Замерьте для всех сходящихся вариантов время работы без вычисления невязок (передайте `compute_residual=False` в функцию `run_solver`). В идеале вы должны (несильно, но всё же) победить по времени вычисления прямой метод (через полное LU), который вы использовали в начале раздела."
   ]
  },
  {
   "cell_type": "code",
   "execution_count": 41,
   "metadata": {},
   "outputs": [
    {
     "name": "stdout",
     "output_type": "stream",
     "text": [
      "Runtime: 44.69 secs (4.17 preparation + 40.52 iters)\n"
     ]
    }
   ],
   "source": [
    "x_cg = run_solver(conjugate_gradients, A, b, lambda: make_ilu_prec(A, fill_factor=50, drop_tol=1e-5),\n",
    "                  max_iter=100, compute_residual=False, debug=False, tol=1e-5)"
   ]
  },
  {
   "cell_type": "code",
   "execution_count": 42,
   "metadata": {},
   "outputs": [
    {
     "name": "stdout",
     "output_type": "stream",
     "text": [
      "4.05 s ± 0 ns per loop (mean ± std. dev. of 1 run, 1 loop each)\n"
     ]
    }
   ],
   "source": [
    "%timeit -r 1 -n 1 exact = solve_exact(A, b)"
   ]
  }
 ],
 "metadata": {
  "kernelspec": {
   "display_name": "Python 3",
   "language": "python",
   "name": "python3"
  },
  "language_info": {
   "codemirror_mode": {
    "name": "ipython",
    "version": 3
   },
   "file_extension": ".py",
   "mimetype": "text/x-python",
   "name": "python",
   "nbconvert_exporter": "python",
   "pygments_lexer": "ipython3",
   "version": "3.7.2"
  }
 },
 "nbformat": 4,
 "nbformat_minor": 2
}
